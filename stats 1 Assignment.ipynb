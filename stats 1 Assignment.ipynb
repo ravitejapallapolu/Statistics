{
 "cells": [
  {
   "cell_type": "markdown",
   "metadata": {},
   "source": [
    "# Calculate the mean, median, mode and standard deviation for the problem statements 1& 2.\n",
    "Problem Statement 1:\n",
    "The marks awarded for an assignment set for a Year 8 class of 20 students were as\n",
    "follows:\n",
    "6 7 5 7 7 8 7 6 9 7 4 10 6 8 8 9 5 6 4 8\n",
    "\n",
    "Problem Statement 2:\n",
    "The number of calls from motorists per day for roadside service was recorded for a\n",
    "particular month:\n",
    "28, 122, 217, 130, 120, 86, 80, 90, 140, 120, 70, 40, 145, 113, 90, 68, 174, 194, 170,\n",
    "100, 75, 104, 97, 75,\n",
    "123, 100, 75, 104, 97, 75, 123, 100, 89, 120, 109"
   ]
  },
  {
   "cell_type": "code",
   "execution_count": 22,
   "metadata": {},
   "outputs": [],
   "source": [
    "import scipy\n",
    "import numpy as np\n",
    "from scipy import stats"
   ]
  },
  {
   "cell_type": "code",
   "execution_count": 61,
   "metadata": {},
   "outputs": [
    {
     "name": "stdout",
     "output_type": "stream",
     "text": [
      "[6, 7, 5, 7, 7, 8, 7, 6, 9, 7, 4, 10, 6, 8, 8, 9, 5, 6, 4, 8]\n"
     ]
    }
   ],
   "source": [
    "str = [int(v) for v in \"6 7 5 7 7 8 7 6 9 7 4 10 6 8 8 9 5 6 4 8\".split(' ')]\n",
    "print(str)"
   ]
  },
  {
   "cell_type": "code",
   "execution_count": 64,
   "metadata": {},
   "outputs": [
    {
     "name": "stdout",
     "output_type": "stream",
     "text": [
      "Mean :  6.85\n",
      "Median :  7.0\n",
      "Mode :  7\n",
      "standard deviation :  1.5898113095584647\n"
     ]
    }
   ],
   "source": [
    "print(\"Mean : \",np.mean(np.array(str)))\n",
    "print(\"Median : \",np.median(str))\n",
    "print(\"Mode : \",stats.mode(str)[0][0])\n",
    "print(\"standard deviation : \",np.std(str))"
   ]
  },
  {
   "cell_type": "code",
   "execution_count": 65,
   "metadata": {},
   "outputs": [
    {
     "name": "stdout",
     "output_type": "stream",
     "text": [
      "[28, 122, 217, 130, 120, 86, 80, 90, 140, 120, 70, 40, 145, 113, 90, 68, 174, 194, 170, 100, 75, 104, 97, 75, 123, 100, 75, 104, 97, 75, 123, 100, 89, 120, 109]\n"
     ]
    }
   ],
   "source": [
    "str = [28, 122, 217, 130, 120, 86, 80, 90, 140, 120, 70, 40, 145, 113, 90, 68, 174, 194, 170, 100, 75, 104, 97, 75, 123, 100, 75, 104, 97, 75, 123, 100, 89, 120, 109]\n",
    "print(str)"
   ]
  },
  {
   "cell_type": "code",
   "execution_count": 66,
   "metadata": {},
   "outputs": [
    {
     "name": "stdout",
     "output_type": "stream",
     "text": [
      "Mean :  107.51428571428572\n",
      "Median :  100.0\n",
      "Mode :  75\n",
      "standard deviation :  38.77287080168403\n"
     ]
    }
   ],
   "source": [
    "print(\"Mean : \",np.mean(np.array(str)))\n",
    "print(\"Median : \",np.median(str))\n",
    "print(\"Mode : \",stats.mode(str)[0][0])\n",
    "print(\"standard deviation : \",np.std(str))"
   ]
  },
  {
   "cell_type": "markdown",
   "metadata": {},
   "source": [
    "# Problem Statement 3:\n",
    "The number of times I go to the gym in weekdays, are given below along with its\n",
    "associated probability:\n",
    "x = 0, 1, 2, 3, 4, 5\n",
    "f(x) = 0.09, 0.15, 0.40, 0.25, 0.10, 0.01\n",
    "Calculate the mean no. of workouts in a week. Also evaluate the variance involved in\n",
    "it."
   ]
  },
  {
   "cell_type": "code",
   "execution_count": 67,
   "metadata": {},
   "outputs": [],
   "source": [
    "x=[0, 1, 2, 3, 4, 5]\n",
    "f=[0.09, 0.15, 0.40, 0.25, 0.10, 0.01]"
   ]
  },
  {
   "cell_type": "code",
   "execution_count": 69,
   "metadata": {},
   "outputs": [
    {
     "name": "stdout",
     "output_type": "stream",
     "text": [
      "Mean :  2.15\n",
      "Variance : 1.2275\n"
     ]
    }
   ],
   "source": [
    "mean = sum([i*j for i,j in zip(x,f)])\n",
    "print(\"Mean : \", mean)\n",
    "variance = sum([((i- mean)**2)*j for i,j in zip(x,f)]) \n",
    "print(\"Variance :\", variance)"
   ]
  },
  {
   "cell_type": "markdown",
   "metadata": {},
   "source": [
    "# Problem Statement 4:\n",
    "Let the continuous random variable D denote the diameter of the hole drilled in an\n",
    "aluminum sheet. The target diameter to be achieved is 12.5mm. Random\n",
    "disturbances in the process often result in inaccuracy.\n",
    "Historical data shows that the distribution of D can be modelled by the PDF (d) =\n",
    "20e−20(d−12.5), d ≥ 12.5. If a part with diameter > 12.6 mm needs to be scrapped,\n",
    "what is the proportion of those parts? What is the CDF when the diameter is of 11\n",
    "mm? What is your conclusion regarding the proportion of scraps?"
   ]
  },
  {
   "cell_type": "code",
   "execution_count": 71,
   "metadata": {},
   "outputs": [],
   "source": [
    "def prob_func(d):\n",
    "    return (20*np.exp(-20*(d-12.5)))"
   ]
  },
  {
   "cell_type": "code",
   "execution_count": 253,
   "metadata": {},
   "outputs": [],
   "source": [
    "from scipy.integrate import quad"
   ]
  },
  {
   "cell_type": "code",
   "execution_count": 255,
   "metadata": {},
   "outputs": [
    {
     "name": "stdout",
     "output_type": "stream",
     "text": [
      "The proportion of the parts with diameter greater than 12.6mm is: 0.13533528323661398\n",
      "The proportion of the parts between 12.5 and 12.6 is: 0.8646647167633718\n",
      "In other words sum of the proportion of the parts between 1.5 and 12.6 and proportion of the parts greater than 12.6 is 1,which indicates that the proportion of the parts less than 12.5 is 0\n",
      "The cdf when the diameter is of 11mm is zero\n"
     ]
    }
   ],
   "source": [
    "def prob_func(d):\n",
    "    return (20*np.exp(-20*(d-12.5)))\n",
    "res=quad(prob_func,a=12.6,b=np.inf)[0]\n",
    "\n",
    "print(\"The proportion of the parts with diameter greater than 12.6mm is:\",res)\n",
    "res1=quad(prob_func,a=12.5,b=12.6)[0]\n",
    "print(\"The proportion of the parts between 12.5 and 12.6 is:\",res1)\n",
    "print(\"In other words sum of the proportion of the parts between 1.5 and 12.6 and proportion of the parts greater than 12.6 is 1,which indicates that the proportion of the parts less than 12.5 is 0\")\n",
    "print(\"The cdf when the diameter is of 11mm is zero\")"
   ]
  },
  {
   "cell_type": "code",
   "execution_count": null,
   "metadata": {},
   "outputs": [],
   "source": []
  },
  {
   "cell_type": "markdown",
   "metadata": {},
   "source": [
    "# Problem Statement 5:\n",
    "\n",
    "A company manufactures LED bulbs with a faulty rate of 30%. If I randomly select 6\n",
    "chosen LEDs, what is the probability of having 2 faulty LEDs in my sample?\n",
    "Calculate the average value of this process. Also evaluate the standard deviation\n",
    "associated with it."
   ]
  },
  {
   "cell_type": "code",
   "execution_count": 57,
   "metadata": {},
   "outputs": [
    {
     "name": "stdout",
     "output_type": "stream",
     "text": [
      "probability of having 2 faulty LEDs :  0.32413499999999995\n"
     ]
    }
   ],
   "source": [
    "import matplotlib.pyplot as plt\n",
    "import seaborn as sns\n",
    "print(\"probability of having 2 faulty LEDs : \",stats.binom.pmf(k=2,n=6,p=0.3))\n"
   ]
  },
  {
   "cell_type": "code",
   "execution_count": 262,
   "metadata": {},
   "outputs": [
    {
     "name": "stdout",
     "output_type": "stream",
     "text": [
      "probability of having 2 faulty LEDs in my sample 0.32205\n",
      "Mean 1.81235\n",
      "standard deviation 1.1281566724085799\n"
     ]
    }
   ],
   "source": [
    "all =np.random.binomial(n=6,p=0.3,size=20000)\n",
    "print(\"probability of having 2 faulty LEDs in my sample\",sum(np.random.binomial(n=6,p=0.3,size=20000)==2)/20000)\n",
    "print(\"Mean\",all.mean())\n",
    "print(\"standard deviation\",all.std())"
   ]
  },
  {
   "cell_type": "code",
   "execution_count": 256,
   "metadata": {},
   "outputs": [
    {
     "data": {
      "text/plain": [
       "<matplotlib.axes._subplots.AxesSubplot at 0x2603ef35340>"
      ]
     },
     "execution_count": 256,
     "metadata": {},
     "output_type": "execute_result"
    },
    {
     "data": {
      "image/png": "[encoded data removed]",
      "text/plain": [
       "<Figure size 432x288 with 1 Axes>"
      ]
     },
     "metadata": {
      "needs_background": "light"
     },
     "output_type": "display_data"
    }
   ],
   "source": [
    "binomial_data=stats.binom.rvs(n=6,p=0.3,size=100)\n",
    "sns.distplot(binomial_data,hist=True,kde=True,color=\"red\")"
   ]
  },
  {
   "cell_type": "code",
   "execution_count": null,
   "metadata": {},
   "outputs": [],
   "source": [
    "np.random.binomial(n=6,p=0.3,size=20000)"
   ]
  },
  {
   "cell_type": "markdown",
   "metadata": {},
   "source": [
    "# Problem Statement 6:\n",
    "\n",
    "Gaurav and Barakha are both preparing for entrance exams. Gaurav attempts to\n",
    "solve 8 questions per day with a correction rate of 75%, while Barakha averages\n",
    "around 12 questions per day with a correction rate of 45%. What is the probability\n",
    "that each of them will solve 5 questions correctly? What happens in cases of 4 and 6\n",
    "correct solutions? What do you infer from it? What are the two main governing\n",
    "factors affecting their ability to solve questions correctly? Give a pictorial\n",
    "representation of the same to validate your answer."
   ]
  },
  {
   "cell_type": "code",
   "execution_count": 265,
   "metadata": {},
   "outputs": [
    {
     "name": "stdout",
     "output_type": "stream",
     "text": [
      "Probability of gaurav solving 5 questions correctly is: 0.227\n",
      "Probability of barkha solving 5 questions correctly is: 0.2075\n",
      "Probability of gaurav solving 4 questions correctly is: 0.0785\n",
      "Probability of barkha solving 4 questions correctly is: 0.187\n",
      "Probability of gaurav solving 6 questions correctly is: 0.2945\n",
      "Probability of barkha solving 6 questions correctly is: 0.211\n"
     ]
    }
   ],
   "source": [
    "ga=np.random.binomial(8,0.75,2000)\n",
    "ba=np.random.binomial(12,0.45,2000)\n",
    "g=[]\n",
    "b=[]\n",
    "for i in range(9):\n",
    "    g.append(np.sum(ga==i)/2000)\n",
    "    b.append(np.sum(ba==i)/2000)\n",
    "print(\"Probability of gaurav solving 5 questions correctly is:\",g[5])\n",
    "print(\"Probability of barkha solving 5 questions correctly is:\",b[5])\n",
    "print(\"Probability of gaurav solving 4 questions correctly is:\",g[4])\n",
    "print(\"Probability of barkha solving 4 questions correctly is:\",b[4])\n",
    "print(\"Probability of gaurav solving 6 questions correctly is:\",g[6])\n",
    "print(\"Probability of barkha solving 6 questions correctly is:\",b[6])"
   ]
  },
  {
   "cell_type": "code",
   "execution_count": 270,
   "metadata": {},
   "outputs": [
    {
     "data": {
      "text/plain": [
       "Text(0.5, 1.0, 'Probability distribution of gaurav and Barkha ')"
      ]
     },
     "execution_count": 270,
     "metadata": {},
     "output_type": "execute_result"
    },
    {
     "data": {
      "image/png": "[encoded data removed]",
      "text/plain": [
       "<Figure size 432x288 with 1 Axes>"
      ]
     },
     "metadata": {
      "needs_background": "light"
     },
     "output_type": "display_data"
    }
   ],
   "source": [
    "plt.plot([i for i in range(9)],g,label=\"Gaurav\")\n",
    "plt.plot([i for i in range(9)],b,label='Barkha')\n",
    "plt.xlabel(\"Number of correct questions\")\n",
    "plt.ylabel(\"P(x)\")\n",
    "plt.legend()\n",
    "plt.title(\"Probability distribution of gaurav and Barkha \")"
   ]
  },
  {
   "cell_type": "markdown",
   "metadata": {},
   "source": [
    "# Problem Statement 7:\n",
    "\n",
    "Customers arrive at a rate of 72 per hour to my shop. What is the probability of k\n",
    "customers arriving in 4 minutes? a) 5 customers, b) not more than 3 customers, c)\n",
    "more than 3 customers. Give a pictorial representation of the same to validate your\n",
    "answer."
   ]
  },
  {
   "cell_type": "code",
   "execution_count": 274,
   "metadata": {},
   "outputs": [
    {
     "name": "stdout",
     "output_type": "stream",
     "text": [
      "The probability of 5 customers arriving is 0.181\n",
      "The probability of not more than 3 customers is :0.29\n",
      "The probability of more than 3 customers is 0.699\n"
     ]
    },
    {
     "data": {
      "text/plain": [
       "<matplotlib.axes._subplots.AxesSubplot at 0x2603dadfa00>"
      ]
     },
     "execution_count": 274,
     "metadata": {},
     "output_type": "execute_result"
    },
    {
     "data": {
      "image/png": "[encoded data removed]",
      "text/plain": [
       "<Figure size 432x288 with 1 Axes>"
      ]
     },
     "metadata": {
      "needs_background": "light"
     },
     "output_type": "display_data"
    }
   ],
   "source": [
    "print(\"The probability of 5 customers arriving is {}\".format(np.sum(np.random.poisson(4*72/60, 2000)==5)/2000))\n",
    "print('The probability of not more than 3 customers is :{}'.format(np.sum(np.random.poisson(4*72/60, 2000)<=3)/2000))\n",
    "print(\"The probability of more than 3 customers is {}\".format(np.sum(np.random.poisson(4*72/60, 2000)>3)/2000))\n",
    "sns.distplot(np.random.poisson(4*(72/60), 2000),hist=False,color='red')"
   ]
  },
  {
   "cell_type": "markdown",
   "metadata": {},
   "source": [
    "# Problem Statement 8:\n",
    "\n",
    "I work as a data analyst in Aeon Learning Pvt. Ltd. After analyzing data, I make\n",
    "reports, where I have the efficiency of entering 77 words per minute with 6 errors per\n",
    "hour. What is the probability that I will commit 2 errors in a 455-word financial report?\n",
    "What happens when the no. of words increases/decreases (in case of 1000 words,\n",
    "255 words)?\n",
    "How is the λ affected?\n",
    "How does it influence the PMF?\n",
    "Give a pictorial representation of the same to validate your answer."
   ]
  },
  {
   "cell_type": "code",
   "execution_count": 278,
   "metadata": {},
   "outputs": [
    {
     "data": {
      "text/plain": [
       "Text(0, 0.5, 'Words vs Error Probability')"
      ]
     },
     "execution_count": 278,
     "metadata": {},
     "output_type": "execute_result"
    },
    {
     "data": {
      "image/png": "[encoded data removed]",
      "text/plain": [
       "<Figure size 432x288 with 1 Axes>"
      ]
     },
     "metadata": {
      "needs_background": "light"
     },
     "output_type": "display_data"
    }
   ],
   "source": [
    "words=[100,255,455,750,1000,1250,1500]\n",
    "prob=[]\n",
    "for i in words:\n",
    "    lamda=(i/77)*(6/60)\n",
    "    dist=np.random.poisson(lamda,1000)\n",
    "    prob.append(np.sum(dist==2)/1000)\n",
    "plt.plot(words,prob)\n",
    "plt.xlabel(\"Number of Words\")\n",
    "plt.ylabel(\"Probability of two errors\")\n",
    "plt.ylabel(\"Words vs Error Probability\")"
   ]
  },
  {
   "cell_type": "markdown",
   "metadata": {},
   "source": [
    "# Problem Statement 9:\n",
    "\n",
    "Let the continuous random variable D denote the diameter of the hole drilled in an\n",
    "aluminum sheet. The target diameter to be achieved is 12.5mm. Random\n",
    "disturbances in the process often result in inaccuracy.\n",
    "Historical data shows that the distribution of D can be modelled by the PDF, f(d) =\n",
    "20e−20(d−12.5), d ≥ 12.5. If a part with diameter > 12.6 mm needs to be scrapped,\n",
    "what is the proportion of those parts? What is the CDF when the diameter is of 11\n",
    "mm?\n",
    "What is the conclusion of this experiment?"
   ]
  },
  {
   "cell_type": "code",
   "execution_count": 279,
   "metadata": {},
   "outputs": [
    {
     "name": "stdout",
     "output_type": "stream",
     "text": [
      "The proportion of the parts with diameter greater than 12.6mm is: 0.13533528323661398\n",
      "The proportion of the parts between 12.5 and 12.6 is: 0.8646647167633718\n",
      "In other words sum of the proportion of the parts between 1.5 and 12.6 and proportion of the parts greater than 12.6 is 1,which indicates that the proportion of the parts less than 12.5 is 0\n",
      "The cdf when the diameter is of 11mm is zero\n"
     ]
    }
   ],
   "source": [
    "def prob_func(d):\n",
    "    return (20*np.exp(-20*(d-12.5)))\n",
    "res=quad(prob_func,a=12.6,b=np.inf)[0]\n",
    "\n",
    "print(\"The proportion of the parts with diameter greater than 12.6mm is:\",res)\n",
    "res1=quad(prob_func,a=12.5,b=12.6)[0]\n",
    "print(\"The proportion of the parts between 12.5 and 12.6 is:\",res1)\n",
    "print(\"In other words sum of the proportion of the parts between 1.5 and 12.6 and proportion of the parts greater than 12.6 is 1,which indicates that the proportion of the parts less than 12.5 is 0\")\n",
    "print(\"The cdf when the diameter is of 11mm is zero\")"
   ]
  },
  {
   "cell_type": "markdown",
   "metadata": {},
   "source": [
    "# Problem Statement 10:\n",
    "\n",
    "Please compute the following:\n",
    "a) P(Z > 1.26), . P(Z < −0.86), P(Z > −1.37), P(−1.25 < Z < 0.37), . P(Z ≤ −4.6)\n",
    "b) Find the value z such that P(Z > z) = 0.05\n",
    "c) Find the value of z such that P(−z < Z < z) = 0.99    "
   ]
  },
  {
   "cell_type": "code",
   "execution_count": 281,
   "metadata": {},
   "outputs": [
    {
     "name": "stdout",
     "output_type": "stream",
     "text": [
      "P(Z > 1.26) :  0.10383468112130045\n",
      "P(Z < −0.86): 0.1948945212518084\n",
      "P(Z > −1.37): 0.914656549178033\n",
      "P(−1.25 < Z < 0.37): 0.5386589811336914\n",
      "P(Z ≤ −4.6): 2.1124547024964357e-06\n",
      "value 𝑧 such that 𝑃(𝑍 > 𝑧) = 0.05: 1.6448536269514729\n",
      "value of 𝑧 such that 𝑃(−𝑧 < 𝑍 < 𝑧): 2.3263478740408408\n"
     ]
    }
   ],
   "source": [
    "from scipy import stats as st\n",
    "print(\"P(Z > 1.26) : \",1-(st.norm.cdf(1.26)))\n",
    "print(\"P(Z < −0.86):\",st.norm.cdf(-0.86))\n",
    "print(\"P(Z > −1.37):\",1-(st.norm.cdf(-1.37)))\n",
    "print(\"P(−1.25 < Z < 0.37):\",(st.norm.cdf(0.37)-st.norm.cdf(-1.25)))\n",
    "print(\"P(Z ≤ −4.6):\",1-(st.norm.cdf(4.6)))\n",
    "print(\"value 𝑧 such that 𝑃(𝑍 > 𝑧) = 0.05:\",np.absolute(st.norm.ppf(0.05)))\n",
    "print(\"value of 𝑧 such that 𝑃(−𝑧 < 𝑍 < 𝑧):\",st.norm.ppf(0.99))"
   ]
  },
  {
   "cell_type": "markdown",
   "metadata": {},
   "source": [
    "# Problem Statement 11:\n",
    "\n",
    "The current flow in a copper wire follow a normal distribution with a mean of 10 mA\n",
    "and a variance of 4 (mA)2.\n",
    "What is the probability that a current measurement will exceed 13 mA? What is the\n",
    "probability that a current measurement is between 9 and 11mA? Determine the\n",
    "current measurement which has a probability of 0.98."
   ]
  },
  {
   "cell_type": "code",
   "execution_count": 289,
   "metadata": {},
   "outputs": [
    {
     "name": "stdout",
     "output_type": "stream",
     "text": [
      "probability that a current measurement will exceed 13 𝑚𝐴: 0.22662735237686826\n",
      "probability that a current measurement is between 9 and 11mA: 0.1974126513658474\n",
      "current measurement which has a probability of 0.98: 18.214995642527292\n"
     ]
    }
   ],
   "source": [
    "print(\"probability that a current measurement will exceed 13 𝑚𝐴:\",1-(st.norm.cdf(x=13,loc=10,scale=4)))\n",
    "print(\"probability that a current measurement is between 9 and 11mA:\",(st.norm.cdf(x=11,loc=10,scale=4)-st.norm.cdf(x=9,loc=10,scale=4)))\n",
    "print(\"current measurement which has a probability of 0.98:\",st.norm.ppf(q=0.98,loc=10,scale=4))"
   ]
  },
  {
   "cell_type": "markdown",
   "metadata": {},
   "source": [
    "# Problem Statement 12:\n",
    "\n",
    "The shaft in a piston has its diameter normally distributed with a mean of 0.2508 inch\n",
    "and a standard deviation of 0.0005 inch. The specifications of the shaft are 0.2500 ∓\n",
    "0.0015 inch. What proportion of shafts are in sync with the specifications? If the\n",
    "process is centered so that the mean is equal to the target value of 0.2500, what\n",
    "proportion of shafts conform to the new specifications? What is your conclusion from\n",
    "this experiment?"
   ]
  },
  {
   "cell_type": "code",
   "execution_count": 292,
   "metadata": {},
   "outputs": [
    {
     "name": "stdout",
     "output_type": "stream",
     "text": [
      "Proportion of shafts in sync with the specifications are :  0.91924122831152\n",
      "Proportion of shafts in sync with the specifications after the process is centered is :  0.9973002039367398\n"
     ]
    }
   ],
   "source": [
    "mean=0.2508\n",
    "std=0.0005\n",
    "l1=0.2500-0.0015\n",
    "l2=0.2500+0.0015\n",
    "print(\"Proportion of shafts in sync with the specifications are : \",(st.norm.cdf(x=l2,loc=mean,scale=std)-st.norm.cdf(x=l1,loc=mean,scale=std)))\n",
    "new_mean=0.2500\n",
    "print(\"Proportion of shafts in sync with the specifications after the process is centered is : \",(st.norm.cdf(x=l2,loc=new_mean,scale=std)-st.norm.cdf(x=l1,loc=new_mean,scale=std)))"
   ]
  },
  {
   "cell_type": "code",
   "execution_count": null,
   "metadata": {},
   "outputs": [],
   "source": []
  }
 ],
 "metadata": {
  "kernelspec": {
   "display_name": "Python 3",
   "language": "python",
   "name": "python3"
  },
  "language_info": {
   "codemirror_mode": {
    "name": "ipython",
    "version": 3
   },
   "file_extension": ".py",
   "mimetype": "text/x-python",
   "name": "python",
   "nbconvert_exporter": "python",
   "pygments_lexer": "ipython3",
   "version": "3.8.3"
  }
 },
 "nbformat": 4,
 "nbformat_minor": 4
}
