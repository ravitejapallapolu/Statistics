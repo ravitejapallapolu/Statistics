{
 "cells": [
  {
   "cell_type": "code",
   "execution_count": 5,
   "metadata": {},
   "outputs": [
    {
     "name": "stderr",
     "output_type": "stream",
     "text": [
      "<frozen importlib._bootstrap>:219: RuntimeWarning: numpy.ufunc size changed, may indicate binary incompatibility. Expected 192 from C header, got 216 from PyObject\n",
      "<frozen importlib._bootstrap>:219: RuntimeWarning: numpy.ufunc size changed, may indicate binary incompatibility. Expected 192 from C header, got 216 from PyObject\n",
      "<frozen importlib._bootstrap>:219: RuntimeWarning: numpy.ufunc size changed, may indicate binary incompatibility. Expected 192 from C header, got 216 from PyObject\n",
      "<frozen importlib._bootstrap>:219: RuntimeWarning: numpy.ufunc size changed, may indicate binary incompatibility. Expected 192 from C header, got 216 from PyObject\n"
     ]
    }
   ],
   "source": [
    "import matplotlib.pyplot as plt\n",
    "import scipy.stats\n",
    "import numpy as np\n",
    "import pandas as pd\n",
    "import seaborn as sns"
   ]
  },
  {
   "cell_type": "markdown",
   "metadata": {},
   "source": [
    "# Problem Statement 1:\n",
    "\n",
    "In each of the following situations, state whether it is a correctly stated hypothesis\n",
    "testing problem and why?\n",
    "1. H0: μ = 25, H1: μ ≠ 25\n",
    "2. H0: σ > 10, H1: σ = 10\n",
    "3. H0: x = 50, H1: x ≠ 50\n",
    "4. H0: p = 0.1, H1: p = 0.5\n",
    "5. H0: s = 30, H1: s > 30"
   ]
  },
  {
   "cell_type": "code",
   "execution_count": 4,
   "metadata": {},
   "outputs": [
    {
     "name": "stdout",
     "output_type": "stream",
     "text": [
      "H0: μ = 25, H1: μ ≠ 25 : Correct and two tail\n",
      "H0: σ > 10, H1: σ = 10 : Incorrect as H1 should be σ <10\n",
      "H0: x = 50, H1: x ≠ 50 : Correct and two tail\n",
      "H0: p = 0.1, H1: p = 0.5 : Incorrect as H1 should be p ≠ 0.1\n",
      "H0: s = 30, H1: s > 30 : Incorrect as H1 should be s ≠ 30\n"
     ]
    }
   ],
   "source": [
    "print(\"H0: μ = 25, H1: μ ≠ 25 : Correct and two tail\",)\n",
    "print(\"H0: σ > 10, H1: σ = 10 : Incorrect as H1 should be σ <10\")\n",
    "print(\"H0: x = 50, H1: x ≠ 50 : Correct and two tail\")\n",
    "print(\"H0: p = 0.1, H1: p = 0.5 : Incorrect as H1 should be p ≠ 0.1\")\n",
    "print(\"H0: s = 30, H1: s > 30 : Incorrect as H1 should be s ≠ 30\")"
   ]
  },
  {
   "cell_type": "markdown",
   "metadata": {},
   "source": [
    "# Problem Statement 2:\n",
    "The college bookstore tells prospective students that the average cost of its\n",
    "textbooks is Rs. 52 with a standard deviation of Rs. 4.50. A group of smart statistics\n",
    "students thinks that the average cost is higher. To test the bookstore’s claim against\n",
    "their alternative, the students will select a random sample of size 100. Assume that\n",
    "the mean from their random sample is Rs. 52.80. Perform a hypothesis test at the\n",
    "5% level of significance and state your decision."
   ]
  },
  {
   "cell_type": "code",
   "execution_count": 22,
   "metadata": {},
   "outputs": [
    {
     "name": "stdout",
     "output_type": "stream",
     "text": [
      "0.0754403596268014\n",
      "mean is 52 and null hypothesis is correct\n"
     ]
    }
   ],
   "source": [
    "# Two tail test as mean=52 alter is not equal\n",
    "p= 2*(1-scipy.stats.norm.cdf((52.80-52)/(4.5/np.sqrt(100))))\n",
    "print(p)\n",
    "if p<0.05:\n",
    "    print(\"mean is not 52 and alternative hypothesis is correct\")\n",
    "else :\n",
    "    print(\"mean is 52 and null hypothesis is correct\")\n",
    "    "
   ]
  },
  {
   "cell_type": "markdown",
   "metadata": {},
   "source": [
    "# Problem Statement 3:\n",
    "A certain chemical pollutant in the Genesee River has been constant for several\n",
    "years with mean μ = 34 ppm (parts per million) and standard deviation σ = 8 ppm. A\n",
    "group of factory representatives whose companies discharge liquids into the river is\n",
    "now claiming that they have lowered the average with improved filtration devices. A\n",
    "group of environmentalists will test to see if this is true at the 1% level of\n",
    "significance. Assume \\ that their sample of size 50 gives a mean of 32.5 ppm.\n",
    "Perform a hypothesis test at the 1% level of significance and state your decision."
   ]
  },
  {
   "cell_type": "code",
   "execution_count": 36,
   "metadata": {},
   "outputs": [
    {
     "name": "stdout",
     "output_type": "stream",
     "text": [
      "Null Hyp is accepted as μ = 34 \n"
     ]
    }
   ],
   "source": [
    "p=scipy.stats.norm.cdf((32.5-34)/(8/np.sqrt(50)))\n",
    "if p<0.01:\n",
    "    print(\"Null Hyp is rejected as μ < 34 \")\n",
    "else :\n",
    "    print(\"Null Hyp is accepted as μ = 34 \")"
   ]
  },
  {
   "cell_type": "code",
   "execution_count": 30,
   "metadata": {},
   "outputs": [
    {
     "name": "stdout",
     "output_type": "stream",
     "text": [
      "0.0924487994828001\n",
      "Null Hypothesis is accepted,  𝜇=34\n"
     ]
    }
   ],
   "source": [
    "def z_stat(samp_mean,pop_mean,se):\n",
    "    return (samp_mean-pop_mean)/se\n",
    "def t_stat(samp_mean,pop_mean,se):\n",
    "    return (samp_mean-pop_mean)/se\n",
    "def sample_error(std,n):\n",
    "    return std/(np.sqrt(n))\n",
    "#Since the population variance is given and the sample size>30 we can use the z-test\n",
    "z=z_stat(pop_mean=34,samp_mean=32.5,se=sample_error(8,50))\n",
    "p=scipy.stats.norm.cdf(z)\n",
    "print(p)\n",
    "alpha=0.01\n",
    "if p<alpha:\n",
    "    print(\"Null Hypothesis is rejected, 𝜇<34\")\n",
    "else:\n",
    "    print(\"Null Hypothesis is accepted,  𝜇=34\")"
   ]
  },
  {
   "cell_type": "markdown",
   "metadata": {},
   "source": [
    "# Problem Statement 4:\n",
    "Based on population figures and other general information on the U.S. population,\n",
    "suppose it has been estimated that, on average, a family of four in the U.S. spends\n",
    "about $1135 annually on dental expenditures. Suppose further that a regional dental\n",
    "association wants to test to determine if this figure is accurate for their area of\n",
    "country. To test this, 22 families of 4 are randomly selected from the population in\n",
    "that area of the country and a log is kept of the family’s dental expenditure for one\n",
    "year. The resulting data are given below. Assuming, that dental expenditure is\n",
    "normally distributed in the population, use the data and an alpha of 0.5 to test the\n",
    "dental association’s hypothesis.\n",
    "1008, 812, 1117, 1323, 1308, 1415, 831, 1021, 1287, 851, 930, 730, 699,\n",
    "872, 913, 944, 954, 987, 1695, 995, 1003, 994"
   ]
  },
  {
   "cell_type": "code",
   "execution_count": 37,
   "metadata": {},
   "outputs": [],
   "source": [
    "d=[1008, 812, 1117, 1323, 1308, 1415, 831, 1021, 1287, 851, 930, 730, 699, 872, 913, 944, 954, 987, 1695, 995, 1003, 994]"
   ]
  },
  {
   "cell_type": "code",
   "execution_count": 66,
   "metadata": {},
   "outputs": [
    {
     "data": {
      "text/plain": [
       "-2.070747228595759"
      ]
     },
     "execution_count": 66,
     "metadata": {},
     "output_type": "execute_result"
    }
   ],
   "source": []
  },
  {
   "cell_type": "code",
   "execution_count": 72,
   "metadata": {},
   "outputs": [
    {
     "name": "stdout",
     "output_type": "stream",
     "text": [
      "Reject null as 𝜇!=$1135\n"
     ]
    }
   ],
   "source": [
    "#using t test as size <30 and population var unknown and data is normally distributed\n",
    "p = 2*(1-scipy.stats.t.cdf(np.absolute((np.mean(d) -1135)/(np.std(d)/np.sqrt(22))),df=21))\n",
    "if p<0.5:\n",
    "    print(\"Reject null as 𝜇!=$1135\")\n",
    "else :\n",
    "    print(\"Accept null as 𝜇=$1135\")"
   ]
  },
  {
   "cell_type": "code",
   "execution_count": 63,
   "metadata": {},
   "outputs": [
    {
     "name": "stdout",
     "output_type": "stream",
     "text": [
      "0.050898290089189224\n",
      "0.02544914504459454\n",
      "0.050898290089189155\n"
     ]
    }
   ],
   "source": [
    "print(2*(1-scipy.stats.t.cdf(2.070747228595759,21)))\n",
    "print(scipy.stats.t.cdf(-2.070747228595759,21))\n",
    "print(1-scipy.stats.t.cdf(2.070747228595759,21)+scipy.stats.t.cdf(-2.070747228595759,21))\n"
   ]
  },
  {
   "cell_type": "markdown",
   "metadata": {},
   "source": [
    "# Problem Statement 5:\n",
    "In a report prepared by the Economic Research Department of a major bank the\n",
    "Department manager maintains that the average annual family income on Metropolis\n",
    "is $48,432. What do you conclude about the validity of the report if a random sample\n",
    "of 400 families shows and average income of $48,574 with a standard deviation of\n",
    "2000?"
   ]
  },
  {
   "cell_type": "code",
   "execution_count": 81,
   "metadata": {},
   "outputs": [
    {
     "name": "stdout",
     "output_type": "stream",
     "text": [
      "Accept Null Hyp : mean = 48,432\n"
     ]
    }
   ],
   "source": [
    "#z stats as disribution and pop var is unknown\n",
    "p=2*(1-scipy.stats.norm.cdf((48574-48432)/(2000/np.sqrt(400))))\n",
    "if p < 0.05 :\n",
    "    print(\"Reject Null Hyp : mean != 48,432\")\n",
    "else :\n",
    "    print(\"Accept Null Hyp : mean = 48,432\")"
   ]
  },
  {
   "cell_type": "markdown",
   "metadata": {},
   "source": [
    "# Problem Statement 6:\n",
    "Suppose that in past years the average price per square foot for warehouses in the\n",
    "United States has been $32.28. A national real estate investor wants to determine\n",
    "whether that figure has changed now. The investor hires a researcher who randomly\n",
    "samples 19 warehouses that are for sale across the United States and finds that the\n",
    "mean price per square foot is $31.67, with a standard deviation of $1.29. assume\n",
    "that the prices of warehouse footage are normally distributed in population. If the\n",
    "researcher uses a 5% level of significance, what statistical conclusion can be\n",
    "reached? What are the hypotheses?"
   ]
  },
  {
   "cell_type": "code",
   "execution_count": 87,
   "metadata": {},
   "outputs": [
    {
     "name": "stdout",
     "output_type": "stream",
     "text": [
      "Accept Null Hyp : price = 32.28\n"
     ]
    }
   ],
   "source": [
    "p=2*(1-scipy.stats.t.cdf(np.absolute((31.67-32.28)/(1.29/np.sqrt(19))),df=18))\n",
    "if p<0.05:\n",
    "    print(\"Reject Null Hyp : price !=32.28\")\n",
    "else :\n",
    "    print(\"Accept Null Hyp : price = 32.28\")\n"
   ]
  },
  {
   "cell_type": "markdown",
   "metadata": {},
   "source": [
    "# Problem Statement 7:\n",
    "Fill in the blank spaces in the table and draw your conclusions from it."
   ]
  },
  {
   "cell_type": "code",
   "execution_count": 90,
   "metadata": {},
   "outputs": [
    {
     "name": "stdout",
     "output_type": "stream",
     "text": [
      "No possible to conclude as std and alpha(type I) is not given\n"
     ]
    }
   ],
   "source": [
    "print(\"\"\"No possible to conclude as std and alpha(type I) is not given\"\"\")"
   ]
  },
  {
   "cell_type": "markdown",
   "metadata": {},
   "source": [
    "# Problem Statement 8:\n",
    "Find the t-score for a sample size of 16 taken from a population with mean 10 when\n",
    "the sample mean is 12 and the sample standard deviation is 1.5."
   ]
  },
  {
   "cell_type": "code",
   "execution_count": 92,
   "metadata": {},
   "outputs": [
    {
     "data": {
      "text/plain": [
       "5.333333333333333"
      ]
     },
     "execution_count": 92,
     "metadata": {},
     "output_type": "execute_result"
    }
   ],
   "source": [
    "print(\"t score : \",((12-10)/(1.5/np.sqrt(16))))"
   ]
  },
  {
   "cell_type": "markdown",
   "metadata": {},
   "source": [
    "# Problem Statement 9:\n",
    "Find the t-score below which we can expect 99% of sample means will fall if samples\n",
    "of size 16 are taken from a normally distributed population."
   ]
  },
  {
   "cell_type": "code",
   "execution_count": 96,
   "metadata": {},
   "outputs": [
    {
     "name": "stdout",
     "output_type": "stream",
     "text": [
      "The t-score below which we can expect 99% of sample means will fall is : 2.602480294995493\n"
     ]
    }
   ],
   "source": [
    "print(\"The t-score below which we can expect 99% of sample means will fall is :\",scipy.stats.t.ppf(q=0.99,df=15))"
   ]
  },
  {
   "cell_type": "markdown",
   "metadata": {},
   "source": [
    "# Problem Statement 10:\n",
    "If a random sample of size 25 drawn from a normal population gives a mean of 60\n",
    "and a standard deviation of 4, find the range of t-scores where we can expect to find\n",
    "the middle 95% of all sample means. Compute the probability that (−t0.05 <t<t0.10)."
   ]
  },
  {
   "cell_type": "code",
   "execution_count": 97,
   "metadata": {},
   "outputs": [
    {
     "data": {
      "text/plain": [
       "1.7108820799094275"
      ]
     },
     "execution_count": 97,
     "metadata": {},
     "output_type": "execute_result"
    }
   ],
   "source": [
    "scipy.stats.t.ppf(0.95,24)"
   ]
  },
  {
   "cell_type": "code",
   "execution_count": 99,
   "metadata": {},
   "outputs": [
    {
     "name": "stdout",
     "output_type": "stream",
     "text": [
      "The t-score to find the middle 95% of all sample means is : 1.7108820799094275\n",
      "P(−𝑡0.05 <𝑡<𝑡0.10) =  0.85\n"
     ]
    }
   ],
   "source": [
    "print(\"The t-score to find the middle 95% of all sample means is :\",scipy.stats.t.ppf(0.95,24))\n",
    "print(\"P(−𝑡0.05 <𝑡<𝑡0.10) = \",1-0.05-0.10)"
   ]
  },
  {
   "cell_type": "markdown",
   "metadata": {},
   "source": [
    "# Problem Statement 11:\n",
    "Two-tailed test for difference between two population means\n",
    "Is there evidence to conclude that the number of people travelling from Bangalore to\n",
    "Chennai is different from the number of people travelling from Bangalore to Hosur in\n",
    "a week, given the following:\n",
    "Population 1: Bangalore to Chennai n1 = 1200\n",
    "x1 = 452\n",
    "s1 = 212\n",
    "Population 2: Bangalore to Hosur n2 = 800\n",
    "x2 = 523\n",
    "s2 = 185"
   ]
  },
  {
   "cell_type": "code",
   "execution_count": 108,
   "metadata": {},
   "outputs": [
    {
     "data": {
      "text/plain": [
       "-7.926428526759299"
      ]
     },
     "execution_count": 108,
     "metadata": {},
     "output_type": "execute_result"
    }
   ],
   "source": [
    "(452-523)/(np.sqrt((212**2/1200)+(185**2/800)))"
   ]
  },
  {
   "cell_type": "code",
   "execution_count": 113,
   "metadata": {},
   "outputs": [
    {
     "name": "stdout",
     "output_type": "stream",
     "text": [
      "Rejected Null Hyp as people travelling from Bangalore to Chennai is different from the number of people travelling from Bangalore to Hosur\n"
     ]
    }
   ],
   "source": [
    "p = 2*(1-scipy.stats.norm.cdf(np.absolute((523-452)/(np.sqrt((212**2/1200)+(185**2/800))))))\n",
    "if p<0.05:\n",
    "    print(\"Rejected Null Hyp as people travelling from Bangalore to Chennai is different from the number of people travelling from Bangalore to Hosur\")\n",
    "else :\n",
    "    print(\" Accepted Null Hyp as people travelling from Bangalore to Chennai is same from the number of people travelling from Bangalore to Hosur\")"
   ]
  },
  {
   "cell_type": "markdown",
   "metadata": {},
   "source": [
    "# Problem Statement 12:\n",
    "Is there evidence to conclude that the number of people preferring Duracell battery is\n",
    "different from the number of people preferring Energizer battery, given the following:\n",
    "Population 1: Duracell\n",
    "n1 = 100\n",
    "x1 = 308\n",
    "s1 = 84\n",
    "Population 2: Energizer\n",
    "n2 = 100\n",
    "x2 = 254\n",
    "s2 = 67"
   ]
  },
  {
   "cell_type": "code",
   "execution_count": 114,
   "metadata": {},
   "outputs": [
    {
     "name": "stdout",
     "output_type": "stream",
     "text": [
      "Rejected null hyp as number of people preferring Duracell battery is different from the number of people preferring Energizer battery\n"
     ]
    }
   ],
   "source": [
    "p = 2*(1-scipy.stats.norm.cdf(np.absolute((254-308)/(np.sqrt((84**2/100)+(67**2/100))))))\n",
    "if p< 0.05 :\n",
    "    print(\"Rejected null hyp as number of people preferring Duracell battery is different from the number of people preferring Energizer battery\")\n",
    "else :\n",
    "    print(\" Accept null hyp as number of people preferring Duracell battery is not different from the number of people preferring Energizer battery\")"
   ]
  },
  {
   "cell_type": "code",
   "execution_count": null,
   "metadata": {},
   "outputs": [],
   "source": [
    "#Problem Statement 13:\n",
    "Pooled estimate of the population variance\n",
    "Does the data provide sufficient evidence to conclude that average percentage\n",
    "increase in the price of sugar differs when it is sold at two different prices?\n",
    "Population 1: Price of sugar = Rs. 27.50 n1 = 14\n",
    "x1 = 0.317%\n",
    "s1 = 0.12%\n",
    "Population 2: Price of sugar = Rs. 20.00 n2 = 9\n",
    "x2 = 0.21%\n",
    "s2 = 0.11%"
   ]
  },
  {
   "cell_type": "code",
   "execution_count": 128,
   "metadata": {},
   "outputs": [
    {
     "name": "stdout",
     "output_type": "stream",
     "text": [
      "Null Hypothesis is accepted as Average percentage increase in the price of sugar is same when it is sold at two different prices.)\n"
     ]
    }
   ],
   "source": [
    "def z_stat_twomeans(x1,x2,se):\n",
    "    return (x1-x2)/se\n",
    "def sample_error_twomeans(s1,n1,s2,n2):\n",
    "    return (np.sqrt((s1**2/n1)+(s2**2/n2)))\n",
    "def est_std(n1,s1,n2,s2):\n",
    "    return np.sqrt(((n1*s1**2)+(n2*s2**2))/(n1+n2-2))\n",
    "est_standard_dev=est_std(n1=14,s1=0.12,n2=9,s2=0.11)\n",
    "t=z_stat_twomeans(x1=0.317,x2=0.21,se=sample_error_twomeans(s1=est_standard_dev,s2=est_standard_dev,n1=14,n2=9))\n",
    "p=2*(1-st.t.cdf(x=np.absolute(t),df=14+9-2))\n",
    "if p<0.05:\n",
    "    print(\"Null Hypothesis is rejected as Average percentage increase in the price of sugar differs when it is sold at two different prices.)\")\n",
    "else:\n",
    "    print(\"Null Hypothesis is accepted as Average percentage increase in the price of sugar is same when it is sold at two different prices.)\")"
   ]
  },
  {
   "cell_type": "markdown",
   "metadata": {},
   "source": [
    "# Problem Statement 14:\n",
    "The manufacturers of compact disk players want to test whether a small price\n",
    "reduction is enough to increase sales of their product. Is there evidence that the\n",
    "small price reduction is enough to increase sales of compact disk players?\n",
    "Population 1: Before reduction\n",
    "n1 = 15\n",
    "x1 = Rs. 6598 s1 = Rs. 844\n",
    "Population 2: After reduction n2 = 12\n",
    "x2 = RS. 6870\n",
    "s2 = Rs. 669"
   ]
  },
  {
   "cell_type": "code",
   "execution_count": 130,
   "metadata": {},
   "outputs": [
    {
     "name": "stdout",
     "output_type": "stream",
     "text": [
      "Null Hypothesis is accepted as Average Sales before and after reduction is same or less\n"
     ]
    }
   ],
   "source": [
    "est_stand_dev=est_std(n1=15,s1=844,n2=12,s2=669)\n",
    "t=z_stat_twomeans(x1=6870,x2=6598,se=sample_error_twomeans(s1=est_stand_dev,s2=est_stand_dev,n1=15,n2=12))\n",
    "p=1-(scipy.stats.t.cdf(x=t,df=15+12-1))\n",
    "if p<0.05:\n",
    "    print(\"Null Hypothesis is rejected as Average Sales after reduction increased\")\n",
    "else: \n",
    "    print(\"Null Hypothesis is accepted as Average Sales before and after reduction is same or less\")"
   ]
  },
  {
   "cell_type": "code",
   "execution_count": null,
   "metadata": {},
   "outputs": [],
   "source": []
  },
  {
   "cell_type": "markdown",
   "metadata": {},
   "source": [
    "# Problem Statement 15:\n",
    "Comparisons of two population proportions when the hypothesized difference is zero\n",
    "Carry out a two-tailed test of the equality of banks’ share of the car loan market in\n",
    "1980 and 1995.\n",
    "Population 1: 1980\n",
    "n1 = 1000\n",
    "x1 = 53\n",
    "p 1 = 0.53\n",
    "Population 2: 1985\n",
    "n2 = 100\n",
    "x2 = 43\n",
    "p 2= 0.53"
   ]
  },
  {
   "cell_type": "code",
   "execution_count": 134,
   "metadata": {},
   "outputs": [
    {
     "name": "stdout",
     "output_type": "stream",
     "text": [
      "Null Hypothesis is rejected as Banks share of the car loan market in 1980 and 1995 is not equal(P1!=P2))\n"
     ]
    }
   ],
   "source": [
    "def z_test_pop_proportions(p1,p2,se):\n",
    "    return ((p1-p2)/se)\n",
    "def sample_error_pop_proportions(p1,p2,n1,n2):\n",
    "    return np.sqrt(((p1*(1-p1))/n1)+((p2*(1-p2))/n2))\n",
    "p1=53/1000\n",
    "p2=43/100\n",
    "z=z_test_pop_proportions(p1=p1,p2=p2,se=sample_error_pop_proportions(p1=p1,p2=p2,n1=1000,n2=100))\n",
    "p=2*(1-st.norm.cdf(np.absolute(z)))\n",
    "if p<0.05:\n",
    "    print(\"Null Hypothesis is rejected as Banks share of the car loan market in 1980 and 1995 is not equal(P1!=P2))\")\n",
    "else:\n",
    "    print(\"Null Hypothesis is accepted as Banks share of the car loan market in 1980 and 1995 is equal(P1=P2))\")"
   ]
  },
  {
   "cell_type": "markdown",
   "metadata": {},
   "source": [
    "# Problem Statement 16:\n",
    "Carry out a one-tailed test to determine whether the population proportion of\n",
    "traveler’s check buyers who buy at least $2500 in checks when sweepstakes prizes\n",
    "are offered as at least 10% higher than the proportion of such buyers when no\n",
    "sweepstakes are on.\n",
    "Population 1: With sweepstakes\n",
    "n1 = 300\n",
    "x1 = 120\n",
    "p = 0.40\n",
    "Population 2: No sweepstakes n2 = 700\n",
    "x2 = 140\n",
    "p 2= 0.20"
   ]
  },
  {
   "cell_type": "code",
   "execution_count": 135,
   "metadata": {},
   "outputs": [
    {
     "name": "stdout",
     "output_type": "stream",
     "text": [
      "Null Hypothesis is accepted(the population proportion of traveler’s check buyers who buy at least $2500 in checks when sweepstakes prizes are offered as at least 10% higher than the proportion of such buyers when no sweepstakes are on)\n"
     ]
    }
   ],
   "source": [
    "se=sample_error_pop_proportions(p1=0.4,p2=0.2,n1=300,n2=140)\n",
    "z=((0.4-0.2-0.1)/se)\n",
    "p=st.norm.cdf(z)\n",
    "if p<0.05:\n",
    "    print(\"Null Hypothesis is rejected\")\n",
    "else:\n",
    "    print(\"Null Hypothesis is accepted(the population proportion of traveler’s check buyers who buy at least $2500 in checks when sweepstakes prizes are offered as at least 10% higher than the proportion of such buyers when no sweepstakes are on)\")"
   ]
  },
  {
   "cell_type": "markdown",
   "metadata": {},
   "source": [
    "# Problem Statement 17:\n",
    "A die is thrown 132 times with the following results: Number turned up: 1, 2, 3, 4, 5, 6\n",
    "Frequency: 16, 20, 25, 14, 29, 28\n",
    "Is the die unbiased? Consider the degrees of freedom as p^ − 1 ."
   ]
  },
  {
   "cell_type": "code",
   "execution_count": 141,
   "metadata": {},
   "outputs": [
    {
     "name": "stdout",
     "output_type": "stream",
     "text": [
      "Null Hypothesis is accepted as Dice is unbiased)\n"
     ]
    }
   ],
   "source": [
    "obs =[16, 20, 25, 14, 29, 28]\n",
    "exp =[22,22,22,22,22,22]\n",
    "chi,p = scipy.stats.chisquare(obs,exp)\n",
    "if p<0.05:\n",
    "    print(\"Null Hypothesis is rejected as Dice is biased)\")\n",
    "else:\n",
    "    print(\"Null Hypothesis is accepted as Dice is unbiased)\")"
   ]
  },
  {
   "cell_type": "markdown",
   "metadata": {},
   "source": [
    "# Problem Statement 18:\n",
    "In a certain town, there are about one million eligible voters. A simple random sample of 10,000 eligible voters was chosen to study the relationship between gender and participation in the last election. The results are summarized in the following 2X2 (read two by two) contingency table: Men Women Total Voted 2792 3591 6383 Not Voted 1486 2131 3617 Total 4278 5722 10000 We would want to check whether being a man or a woman (columns) is independent of having voted in the last election (rows). In other words, is “gender and voting independent”?"
   ]
  },
  {
   "cell_type": "code",
   "execution_count": 145,
   "metadata": {},
   "outputs": [
    {
     "name": "stdout",
     "output_type": "stream",
     "text": [
      "Null Hypothesis is rejected as Gender and voting are dependent)\n"
     ]
    }
   ],
   "source": [
    "chi2,p,dof,expected=scipy.stats.chi2_contingency([[2792,3591],[1486,2131]])\n",
    "if p<0.05:\n",
    "    print(\"Null Hypothesis is rejected as Gender and voting are dependent)\")\n",
    "else:\n",
    "    print(\"Null Hypothesis is accepted as Gender and voting is independent)\")"
   ]
  },
  {
   "cell_type": "markdown",
   "metadata": {},
   "source": [
    "# Problem Statement 19:  \n",
    "A sample of 100 voters are asked which of four candidates they would vote for in an election. The number supporting each candidate is given below: Higgins Reardon White Charlton 41 19 24 16 Do the data suggest that all candidates are equally popular? [Chi-Square = 14.96, with 3 df, 𝑝<0.05]."
   ]
  },
  {
   "cell_type": "code",
   "execution_count": 148,
   "metadata": {},
   "outputs": [
    {
     "name": "stdout",
     "output_type": "stream",
     "text": [
      "Rejected Null Hyp as all candidates are not equally popular\n"
     ]
    }
   ],
   "source": [
    "chi,p = scipy.stats.chisquare([41,19,24,16],[25,25,25,25])\n",
    "if p < 0.05 :\n",
    "    print(\"Rejected Null Hyp as all candidates are not equally popular\")\n",
    "else :\n",
    "    print(\"Accepted Null Hyp as all candidates are equally popular\")"
   ]
  },
  {
   "cell_type": "markdown",
   "metadata": {},
   "source": [
    "# Problem Statement 20:\n",
    "Children of three ages are asked to indicate their preference for three photographs of\n",
    "adults. Do the data suggest that there is a significant relationship between age and\n",
    "photograph preference? What is wrong with this study? [Chi-Square = 29.6, with 4\n",
    "df: p < 0.05]."
   ]
  },
  {
   "cell_type": "code",
   "execution_count": 151,
   "metadata": {},
   "outputs": [
    {
     "name": "stdout",
     "output_type": "stream",
     "text": [
      "Null Hypothesis is rejected as There is a significant relationship between age and photograph preference. )\n"
     ]
    }
   ],
   "source": [
    "chi2,p,dof,expected=scipy.stats.chi2_contingency([[18,22,20],[2,28,40],[20,10,40]])\n",
    "if p<0.05:\n",
    "    print(\"Null Hypothesis is rejected as There is a significant relationship between age and photograph preference. )\")\n",
    "else:\n",
    "    print(\"Null Hypothesis is accepted as There is no significant relationship between age and photograph preference.)\")\n"
   ]
  },
  {
   "cell_type": "markdown",
   "metadata": {},
   "source": [
    "# Problem Statement 21:\n",
    "\n",
    "A study of conformity using the Asch paradigm involved two conditions: one where\n",
    "one confederate supported the true judgement and another where no confederate\n",
    "gave the correct response.\n",
    "\n",
    "Is there a significant difference between the \"support\" and \"no support\" conditions in the\n",
    "frequency with which individuals are likely to conform? [Chi-Square = 19.87, with 1 df:\n",
    "p < 0.05]."
   ]
  },
  {
   "cell_type": "code",
   "execution_count": 153,
   "metadata": {},
   "outputs": [
    {
     "name": "stdout",
     "output_type": "stream",
     "text": [
      "Null Hypothesis is rejected(There is a significant difference between the support and no support conditions in the frequency with which individuals are likely to conform.)\n"
     ]
    }
   ],
   "source": [
    "chi2,p,dof,expected=scipy.stats.chi2_contingency(np.array([[18,40],[32,10]]))\n",
    "if p<0.05:\n",
    "    print(\"Null Hypothesis is rejected(There is a significant difference between the support and no support conditions in the frequency with which individuals are likely to conform.)\")\n",
    "else:\n",
    "    print(\"Null Hypothesis is accepted(There is no significant difference between the support and no support conditions in the frequency with which individuals are likely to conform.)\")"
   ]
  },
  {
   "cell_type": "markdown",
   "metadata": {},
   "source": [
    "# Problem Statement 22:\n",
    "\n",
    "We want to test whether short people differ with respect to their leadership qualities\n",
    "(Genghis Khan, Adolf Hitler and Napoleon were all stature-deprived, and how many midget\n",
    "MP's are there?) The following table shows the frequencies with which 43 short people and\n",
    "52 tall people were categorized as \"leaders\", \"followers\" or as \"unclassifiable\". Is there a\n",
    "relationship between height and leadership qualities?\n",
    "[Chi-Square = 10.71, with 2 df: p < 0.01]."
   ]
  },
  {
   "cell_type": "code",
   "execution_count": 155,
   "metadata": {},
   "outputs": [
    {
     "name": "stdout",
     "output_type": "stream",
     "text": [
      "Null Hypothesis is rejected(There is a relationship between height and leadership qualities.)\n"
     ]
    }
   ],
   "source": [
    "chi2,p,dof,expected=scipy.stats.chi2_contingency(np.array([[12,32],[22,14],[9,6]]))\n",
    "if p<0.01:\n",
    "    print(\"Null Hypothesis is rejected(There is a relationship between height and leadership qualities.)\")\n",
    "else:\n",
    "    print(\"Null Hypothesis is accepted(There is no relationship between height and leadership qualities.)\")"
   ]
  },
  {
   "cell_type": "code",
   "execution_count": null,
   "metadata": {},
   "outputs": [],
   "source": [
    "#Problem Statement 23:\n",
    "\n",
    "Each respondent in the Current Population Survey of March 1993 was classified as\n",
    "employed, unemployed, or outside the labor force. The results for men in California age 35-\n",
    "44 can be cross-tabulated by marital status, as follows:\n",
    "\n",
    "Men of different marital status seem to have different distributions of labor force status. Or is\n",
    "this just chance variation? (you may assume the table results from a simple random\n",
    "sample.)"
   ]
  },
  {
   "cell_type": "code",
   "execution_count": 168,
   "metadata": {},
   "outputs": [
    {
     "name": "stdout",
     "output_type": "stream",
     "text": [
      "Rejected Null Hypothesis as Men of different marital status seem to have different distributions of labor force status.\n"
     ]
    }
   ],
   "source": [
    "chi2,p,df,expected=scipy.stats.chi2_contingency(np.array([[679,103,114],[63,10,20],[42,18,25]]))\n",
    "if p<0.05:\n",
    "    print(\"Rejected Null Hypothesis as Men of different marital status seem to have different distributions of labor force status.\")\n",
    "else :\n",
    "    print(\"Accepted Nul Hyp as Men of different marital status seem to have same distributions of labor force status.\")"
   ]
  },
  {
   "cell_type": "code",
   "execution_count": null,
   "metadata": {},
   "outputs": [],
   "source": []
  }
 ],
 "metadata": {
  "kernelspec": {
   "display_name": "Python 3",
   "language": "python",
   "name": "python3"
  },
  "language_info": {
   "codemirror_mode": {
    "name": "ipython",
    "version": 3
   },
   "file_extension": ".py",
   "mimetype": "text/x-python",
   "name": "python",
   "nbconvert_exporter": "python",
   "pygments_lexer": "ipython3",
   "version": "3.8.3"
  }
 },
 "nbformat": 4,
 "nbformat_minor": 4
}
