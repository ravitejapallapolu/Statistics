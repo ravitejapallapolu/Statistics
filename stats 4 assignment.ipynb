{
 "cells": [
  {
   "cell_type": "markdown",
   "metadata": {},
   "source": [
    "# Problem Statement 1:\n",
    "Is gender independent of education level? A random sample of 395 people were\n",
    "surveyed and each person was asked to report the highest education level they\n",
    "obtained. The data that resulted from the survey is summarized in the following table:\n",
    "High School Bachelors Masters Ph.d. Total\n",
    "Female 60 54 46 41 201\n",
    "Male 40 44 53 57 194\n",
    "Total 100 98 99 98 395\n",
    "Question: Are gender and education level dependent at 5% level of significance? In\n",
    "other words, given the data collected above, is there a relationship between the\n",
    "gender of an individual and the level of education that they have obtained?"
   ]
  },
  {
   "cell_type": "code",
   "execution_count": 1,
   "metadata": {},
   "outputs": [],
   "source": [
    "import numpy as np\n",
    "from scipy import stats"
   ]
  },
  {
   "cell_type": "code",
   "execution_count": 3,
   "metadata": {},
   "outputs": [],
   "source": [
    "chi2,p,df,expected = stats.chi2_contingency(np.array([[60,54,46,41],[40,44,53,57]]))"
   ]
  },
  {
   "cell_type": "code",
   "execution_count": 4,
   "metadata": {},
   "outputs": [
    {
     "name": "stdout",
     "output_type": "stream",
     "text": [
      "Null Hyp Rejected as there a relationship between the gender of an individual and the level of education\n"
     ]
    }
   ],
   "source": [
    "if p < 0.05:\n",
    "    print(\"Null Hyp Rejected as there a relationship between the gender of an individual and the level of education\")\n",
    "else :\n",
    "    print(\"Null Hyp Accepted as there  is no relationship between thegender of an individual and the level of education\")"
   ]
  },
  {
   "cell_type": "markdown",
   "metadata": {},
   "source": [
    "# Problem Statement 2:\n",
    "Using the following data, perform a oneway analysis of variance using α=.05. Write\n",
    "up the results in APA format.\n",
    "\n",
    "[Group1: 51, 45, 33, 45, 67]\n",
    "[Group2: 23, 43, 23, 43, 45]\n",
    "[Group3: 56, 76, 74, 87, 56]"
   ]
  },
  {
   "cell_type": "code",
   "execution_count": 8,
   "metadata": {},
   "outputs": [
    {
     "name": "stdout",
     "output_type": "stream",
     "text": [
      "Null Hyp Rejected as means are unequal\n"
     ]
    }
   ],
   "source": [
    "group1=[51, 45, 33, 45, 67]\n",
    "group2=[23, 43, 23, 43, 45]\n",
    "group3=[56, 76, 74, 87, 56]\n",
    "f,p=stats.f_oneway(group1,group2,group3)\n",
    "if p<0.05:\n",
    "    print(\"Null Hyp Rejected as means are unequal\")\n",
    "else :\n",
    "    print(\"Null Hyp Accepted as means are equal\")"
   ]
  },
  {
   "cell_type": "markdown",
   "metadata": {},
   "source": [
    "# Problem Statement 3:\n",
    "Calculate F Test for given 10, 20, 30, 40, 50 and 5,10,15, 20, 25."
   ]
  },
  {
   "cell_type": "code",
   "execution_count": 12,
   "metadata": {},
   "outputs": [
    {
     "name": "stdout",
     "output_type": "stream",
     "text": [
      "F Value :  3.6\n",
      "P Value :  0.0943497728424377\n"
     ]
    }
   ],
   "source": [
    "f,p=stats.f_oneway([10, 20, 30, 40, 50],[5,10,15, 20, 25])\n",
    "print(\"F Value : \",f)\n",
    "print(\"P Value : \",p)"
   ]
  },
  {
   "cell_type": "code",
   "execution_count": 14,
   "metadata": {},
   "outputs": [
    {
     "name": "stdout",
     "output_type": "stream",
     "text": [
      "Null hypothesis is Accepted as means are equal\n"
     ]
    }
   ],
   "source": [
    "if p<0.05 :\n",
    "    print(\"Null hypothesis is Rejected as means are unequal\")\n",
    "else :\n",
    "    print(\"Null hypothesis is Accepted as means are equal\")"
   ]
  },
  {
   "cell_type": "code",
   "execution_count": null,
   "metadata": {},
   "outputs": [],
   "source": []
  }
 ],
 "metadata": {
  "kernelspec": {
   "display_name": "Python 3",
   "language": "python",
   "name": "python3"
  },
  "language_info": {
   "codemirror_mode": {
    "name": "ipython",
    "version": 3
   },
   "file_extension": ".py",
   "mimetype": "text/x-python",
   "name": "python",
   "nbconvert_exporter": "python",
   "pygments_lexer": "ipython3",
   "version": "3.8.3"
  }
 },
 "nbformat": 4,
 "nbformat_minor": 4
}
